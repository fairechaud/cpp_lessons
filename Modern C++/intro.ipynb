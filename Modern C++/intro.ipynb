{
 "cells": [
  {
   "attachments": {},
   "cell_type": "markdown",
   "metadata": {},
   "source": [
    "# Learn Advanced Modern C++ programming\n"
   ]
  },
  {
   "attachments": {},
   "cell_type": "markdown",
   "metadata": {},
   "source": [
    "### Overview\n",
    "* Traditional C++:\n",
    "    * \"C with classes\"\n",
    "* Modern C++ began with C++11:\n",
    "    * Safer\n",
    "    * Compiler-generate loops\n",
    "    * No need for programmers to manage memory\n",
    "    * More expressive (less boilerplate code)\n",
    "    * More efficient (more work at compile time = takes less time to run)\n",
    "    * Less low-level code\n",
    "    * Clearer code, easier to maintain\n",
    "    * Fewer defect reports, fewer debugging time\n",
    "\n",
    "**This course covers C++11 and C++14.**"
   ]
  },
  {
   "attachments": {},
   "cell_type": "markdown",
   "metadata": {},
   "source": [
    "### Foundations will cover:\n",
    "* arrays, strings and vectors\n",
    "* iterators\n",
    "* templates"
   ]
  },
  {
   "attachments": {},
   "cell_type": "markdown",
   "metadata": {},
   "source": [
    "# C++ review"
   ]
  },
  {
   "attachments": {},
   "cell_type": "markdown",
   "metadata": {},
   "source": [
    "### Local variables\n",
    "\n"
   ]
  },
  {
   "attachments": {},
   "cell_type": "markdown",
   "metadata": {},
   "source": [
    "# Abstraction"
   ]
  },
  {
   "attachments": {},
   "cell_type": "markdown",
   "metadata": {},
   "source": [
    "## Definition\n",
    "\n",
    "Representing an object characteristics as attributes and methods, stripping down an object to its fundamentals, e.g. a bicycle can have any size of wheels, different layouts of pedals, different number of seats, the structure can be made of different materials, etc.\n",
    "\n",
    "Abstracting a bicycle means defining the fundamental **attributes** of the object:\n",
    "\n",
    "+ Distribution of wheels\n",
    "+ Size of wheels\n",
    "+ Number of pedals\n",
    "+ Construction material\n",
    "+ Number of seats\n",
    "+ Number of gears\n",
    "+ ...\n",
    "\n",
    "<img src= \"../img/bike.jpg\">\n",
    "\n",
    "In addition to this, abstracting also involves identifying the actions specific to that object:\n",
    "\n",
    "+ Change gears\n",
    "+ Accelerate\n",
    "+ Stop\n",
    "+ ..."
   ]
  },
  {
   "attachments": {},
   "cell_type": "markdown",
   "metadata": {},
   "source": [
    "# Inheritance (class)"
   ]
  },
  {
   "attachments": {},
   "cell_type": "markdown",
   "metadata": {},
   "source": [
    "## Definition\n",
    "\n",
    "Class inheritance means inheriting the general class attributes and methods so we can define an object nevermind all the different possible combinations of values and nuances\n",
    "\n",
    "An object (class) has been defined, e.g. an athlete, an athlete has attributes like power and speed but can also be subclassed depending on the actions he performs.\n",
    "\n",
    "A class athlete can be:\n",
    "+ Swimmer\n",
    "+ Cyclist\n",
    "+ Runner\n",
    "+ Football player\n",
    "\n",
    "but even then, if it's a swimmer, cyclist and runner at the same time that athlete is a tri-athlete, if that person only does biking, we would have to specify if it's mountain biking or any other discipline. If it's a footballer it can either be soccer or indoor football, etc."
   ]
  },
  {
   "attachments": {},
   "cell_type": "markdown",
   "metadata": {},
   "source": []
  }
 ],
 "metadata": {
  "language_info": {
   "name": "python"
  },
  "orig_nbformat": 4
 },
 "nbformat": 4,
 "nbformat_minor": 2
}
