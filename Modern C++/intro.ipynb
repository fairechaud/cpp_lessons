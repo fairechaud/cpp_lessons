{
 "cells": [
  {
   "attachments": {},
   "cell_type": "markdown",
   "metadata": {},
   "source": [
    "# Learn Advanced Modern C++ programming\n"
   ]
  },
  {
   "attachments": {},
   "cell_type": "markdown",
   "metadata": {},
   "source": [
    "### Overview\n",
    "* Traditional C++:\n",
    "    * \"C with classes\"\n",
    "* Modern C++ began with C++11:\n",
    "    * Safer\n",
    "    * Compiler-generate loops\n",
    "    * No need for programmers to manage memory\n",
    "    * More expressive (less boilerplate code)\n",
    "    * More efficient (more work at compile time = takes less time to run)\n",
    "    * Less low-level code\n",
    "    * Clearer code, easier to maintain\n",
    "    * Fewer defect reports, fewer debugging time\n",
    "\n",
    "**This course covers C++11 and C++14.**"
   ]
  },
  {
   "attachments": {},
   "cell_type": "markdown",
   "metadata": {},
   "source": [
    "### Foundations will cover:\n",
    "* arrays, strings and vectors\n",
    "* iterators\n",
    "* templates"
   ]
  },
  {
   "attachments": {},
   "cell_type": "markdown",
   "metadata": {},
   "source": [
    "# C++ review"
   ]
  },
  {
   "attachments": {},
   "cell_type": "markdown",
   "metadata": {},
   "source": [
    "### Local variables\n",
    "\n",
    "* Local variables are defined inside of a scope { ... } and exist only within it\n",
    "\n",
    "* **Pass by value:**\n",
    "\n",
    "A variable is passed into a function as a value copy and the returned variable is also copied back : int func(int y) { ... }\n",
    "\n",
    "* **Pass by address:**\n",
    "\n",
    "Pass by value only affects local variables, when you pass an address **you modify the original** : int func(int& y) { ... }\n",
    "\n",
    "* **Pass by const class:**\n",
    "\n",
    "It's usually more efficient to access class objects by passing a constant reference : void func(const MyClass& mc) { ... } because no data is being copied *causing no overhead*. This also prohibits data from being changed."
   ]
  },
  {
   "attachments": {},
   "cell_type": "markdown",
   "metadata": {},
   "source": [
    "### Reference semantics\n",
    "\n",
    "* Garbage collector keeps track of object lifetime, it keeps track of objects referenced by other objects and decides which can be safely released.\n",
    "* Memory is not released immediately = you cannot predict when objects are destroyed\n",
    "* C++ uses value reference by default"
   ]
  },
  {
   "attachments": {},
   "cell_type": "markdown",
   "metadata": {},
   "source": [
    "### Universal initialization\n",
    "\n",
    "* Brace init can be used with any type : int x{7}; string s{\"Hello\"}; vector&lt;int&gt; vec{4,2,3,5,1};\n",
    "* avoids ambiguity : Test test(); Creation or declaration? | Test test{}; Creation\n",
    "\n",
    "Beware:\n",
    "* no conversions allowed : int x{7.7}; is not legal\n",
    "\n",
    "Consistency:\n",
    "* vector&lt;int&gt; a(4); is a vector intiliazed as 0,0,0,0\n",
    "* vector&lt;int&gt; b(4,2); is a vector intiliazed as 2,2,2,2\n",
    "* vector&lt;int&gt; c{4}; is a vector intiliazed as 4\n",
    "* vector&lt;int&gt; d{4,2}; is a vector intiliazed as 4,2\n",
    "\n",
    "VStudio : Null is int, nullptr is a pointer \n",
    "| Clang : both are a pointer to int \n",
    "| GNU++ : Null is neither an int nor a pointer"
   ]
  },
  {
   "attachments": {},
   "cell_type": "markdown",
   "metadata": {},
   "source": [
    "### Classes\n",
    "\n",
    "* Compound data structure\n",
    "* Can have member functions as well as data members\n",
    "* member functions are \"private\" by default, they have to be declared \"public\"\n",
    "* \"public\" members are the interface of the class\n",
    "* \"private\" members are the implementation\n",
    "* struct is a class but all members are public by default\n"
   ]
  },
  {
   "attachments": {},
   "cell_type": "markdown",
   "metadata": {},
   "source": [
    "### Special member functions\n",
    "\n",
    "* They concern the management of objects, they are automatically inserted and created by the compiler for us"
   ]
  },
  {
   "attachments": {},
   "cell_type": "markdown",
   "metadata": {},
   "source": [
    "#### Constructor\n",
    "\n",
    "* Same name as class, initializes the object using arguments, performs initial config needed : Test(int i, const string& str): i(i), str(str) { ... }"
   ]
  },
  {
   "attachments": {},
   "cell_type": "markdown",
   "metadata": {},
   "source": [
    "#### Copy constructor\n",
    "\n",
    "* Uses another object for initialization : Test(const Test& other) : i(other.i), str(other.str) { ... }"
   ]
  },
  {
   "attachments": {},
   "cell_type": "markdown",
   "metadata": {},
   "source": [
    "#### Assignment operator\n",
    "\n",
    "* Assigns an existing object from another object : Test& operator = (const Test& other) { i = other.i; str = other.str; return *this; }"
   ]
  },
  {
   "attachments": {},
   "cell_type": "markdown",
   "metadata": {},
   "source": [
    "#### Destructor\n",
    "\n",
    "* Called before the class members are released in memory, tidying-up before destroying object : ~Test() { ... }"
   ]
  },
  {
   "attachments": {},
   "cell_type": "markdown",
   "metadata": {},
   "source": [
    "### Pointers\n",
    "\n",
    "* A variable is a value whose value is an address in memory \n",
    "* create a pointer variable by putting an * after the type : int *p;\n",
    "* initialize a pointer by assigning an address to it : int *p1 = &i;\n",
    "* use *new* operator to allocate memory on the heap : int *p2 = new int;"
   ]
  },
  {
   "attachments": {},
   "cell_type": "markdown",
   "metadata": {},
   "source": [
    "### Heap allocated memory\n",
    "\n",
    "* Memory from the heap will remain allocated to the program until it is released or the program is terminated, this memory will not be available for anything else\n",
    "* OS restricts the amount of memory that can be allocated"
   ]
  },
  {
   "attachments": {},
   "cell_type": "markdown",
   "metadata": {},
   "source": [
    "### Memory leak\n",
    "\n",
    "* Failing to release memory when it is no longer needed causes a memory leak = variables must be returned in order to properly release them from memory, an empty return will lead to unfinished memory operations"
   ]
  },
  {
   "attachments": {},
   "cell_type": "markdown",
   "metadata": {},
   "source": [
    "### Releasing memory\n",
    "\n",
    "* delete operator releases memory that was allocated by new : delete p;\n",
    "* all new operations shall be followed by delete actions"
   ]
  }
 ],
 "metadata": {
  "language_info": {
   "name": "python"
  },
  "orig_nbformat": 4
 },
 "nbformat": 4,
 "nbformat_minor": 2
}
