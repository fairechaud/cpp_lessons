{
 "cells": [
  {
   "attachments": {},
   "cell_type": "markdown",
   "metadata": {},
   "source": [
    "# OOP questions\n",
    "+ answer to the point\n",
    "+ be prepared\n",
    "+ be practical"
   ]
  },
  {
   "attachments": {},
   "cell_type": "markdown",
   "metadata": {},
   "source": [
    "## Why do we need OOP?\n",
    "+ it helps us to think in terms of \"real-world\" objects. \n",
    "+ this approach helps organize and manage code better"
   ]
  },
  {
   "attachments": {},
   "cell_type": "markdown",
   "metadata": {},
   "source": [
    "## The 4 pillars (A PIE)\n",
    "+ Abstraction: Show only what's necessary\n",
    "+ Polymorphism: Objects act differently under different conditions\n",
    "+ Inheritance: Parent-Child relationship\n",
    "+ Encapsulation: Hide complexity"
   ]
  },
  {
   "attachments": {},
   "cell_type": "markdown",
   "metadata": {},
   "source": [
    "## What's a class and what's an object?\n",
    "+ class: a type, a blueprint\n",
    "+ object: an instance of the class, it takes all its characteristics"
   ]
  },
  {
   "attachments": {},
   "cell_type": "markdown",
   "metadata": {},
   "source": [
    "## Abstraction vs Encapsulation\n",
    "+ abstraction is about working only with the essential information, the basic attributes or methods. It's a design convention, a thought process\n",
    "+ encapsulation is about keeping the internal implementation private, safe from mutation or unwanted access\n",
    "\n",
    "+ (extra) abstraction happens during the design phase, encapsulation happens during execution/implementation phase\n",
    "+ (extra) encapsulation implements abstraction"
   ]
  },
  {
   "attachments": {},
   "cell_type": "markdown",
   "metadata": {},
   "source": [
    "## Explain inheritance\n",
    "+ creating a class from a parent enables the child to inherit all members and extend their functionality\n",
    "+ a parent is a general class, when you inherit you recycle existing code"
   ]
  },
  {
   "attachments": {},
   "cell_type": "markdown",
   "metadata": {},
   "source": [
    "## What is overriding? \n",
    "*(virtual/overrride keyword in C#)*\n",
    "+ member functions in the parent class can be overriden by child functions when defined\n"
   ]
  },
  {
   "attachments": {},
   "cell_type": "markdown",
   "metadata": {},
   "source": [
    "## What is overloading?\n",
    "+ Method overloading = same method with different signature in the same class (same methods but with different parameters)"
   ]
  },
  {
   "attachments": {},
   "cell_type": "markdown",
   "metadata": {},
   "source": [
    "## Polymorphism"
   ]
  },
  {
   "attachments": {},
   "cell_type": "markdown",
   "metadata": {},
   "source": [
    "### Explain polymorphism\n",
    "+ ability of an object to act differently under different conditions\n",
    "+ basic example: you use an object using the parent class and later on you change that object to a different child class i.e. new employee object 'e' defined as manager, later on, 'e' becomes supervisor. All childs of the Employee super class."
   ]
  },
  {
   "attachments": {},
   "cell_type": "markdown",
   "metadata": {},
   "source": [
    "### Can polymorphism work without inheritance?\n",
    "+ no, inheritance is a must"
   ]
  },
  {
   "attachments": {},
   "cell_type": "markdown",
   "metadata": {},
   "source": [
    "### Static vs Dynamic Polymorphism\n",
    "+ static (compiled): implemented by overloading, this is checked at compiling time\n",
    "+ dynamic (runtime): implementing by overriding, this takes place during execution"
   ]
  },
  {
   "attachments": {},
   "cell_type": "markdown",
   "metadata": {},
   "source": [
    "### What is operator overloading?\n",
    "+ you can define custom operations by programming into each object's implementation, e.g., you define an operator method like '+' addition so you can add 2 objects\n",
    "+ it allows to program additional functionality"
   ]
  },
  {
   "attachments": {},
   "cell_type": "markdown",
   "metadata": {},
   "source": [
    "## Abstract classes"
   ]
  },
  {
   "attachments": {},
   "cell_type": "markdown",
   "metadata": {},
   "source": [
    "### What is an abstract class?\n",
    "+ a partially defined parent class\n",
    "+ a parent class that has only SOME implementation while the rest of the implementation has to be defined by the child classes\n",
    "+ (extra) when a child class has functionality that is not present in the parent class, i.e. invoking that member in the abstract class has no effect "
   ]
  },
  {
   "attachments": {},
   "cell_type": "markdown",
   "metadata": {},
   "source": [
    "### Can you create an instance of abstract classes?\n",
    "+ no"
   ]
  },
  {
   "attachments": {},
   "cell_type": "markdown",
   "metadata": {},
   "source": [
    "### Is it compulsory to implement abstract methods?\n",
    "+ yes, if you don't define abstract methods in the child classes, you'll see an exception thrown"
   ]
  },
  {
   "attachments": {},
   "cell_type": "markdown",
   "metadata": {},
   "source": [
    "### Why can't base classes replace abstract classes?\n",
    "+ base classes cannot be ourely \"half-defined\" in the way that abstract classes are\n",
    "+ you'll need to manually program things to emulate abstract methods, throw NonImplelemtedExecptions manually, etc. An abstract class does this by nature"
   ]
  },
  {
   "attachments": {},
   "cell_type": "markdown",
   "metadata": {},
   "source": [
    "## Interfaces (explain interfaces and why do we need them)\n",
    "+ Interface is a contract (between developer and class consumer)"
   ]
  },
  {
   "attachments": {},
   "cell_type": "markdown",
   "metadata": {},
   "source": [
    "### Can we write logic in interface?\n",
    "\n",
    "+ Interface member's are pure signature (no logic, no implementation)\n",
    "+ you cannot write any implementation into them"
   ]
  },
  {
   "attachments": {},
   "cell_type": "markdown",
   "metadata": {},
   "source": [
    "### Can we define methods as private in interface?\n",
    "+ no, all methods and properties are public by default"
   ]
  },
  {
   "attachments": {},
   "cell_type": "markdown",
   "metadata": {},
   "source": [
    "### Explain why interface is a contract\n",
    "+ why contract? Because the class PROMISES it will follow Interface as is\n",
    "+ implementing an interface means a class will FOLLOW the interface, all member functions and attributes AS they were defined in the interface i.e. no overriding"
   ]
  },
  {
   "attachments": {},
   "cell_type": "markdown",
   "metadata": {},
   "source": []
  }
 ],
 "metadata": {
  "language_info": {
   "name": "python"
  },
  "orig_nbformat": 4
 },
 "nbformat": 4,
 "nbformat_minor": 2
}
