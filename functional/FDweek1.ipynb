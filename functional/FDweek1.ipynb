{
 "cells": [
  {
   "attachments": {},
   "cell_type": "markdown",
   "metadata": {},
   "source": [
    "Key points about the lesson:\n",
    "\n",
    "* You will be able to write code that is easy to understand and almost self-documenting.\n",
    "* You will be familiar with the background of functional programming, understand the fundamental differences of functional solutions compared to imperative ones.\n",
    "* You will be able to solve programming problems elegantly by composing functional tools only or mixing them with other paradigms.\n",
    "* You will spend much less time debugging your real-world applications because of their increased run-time safety.\n",
    "* You will be able to utilize multiple CPUs to improve the performance of your applications.\n",
    "* Your understanding of functional programming will help in other languages too. And it will expand your horizon regarding software engineering in general.\n",
    "\n",
    "Controlling complexity is one of the biggest challenges a developer faces. Functional programming helps tremendously with this and thus becomes more and more popular, even in originally imperative and object oriented languages like C++. This course will help you increase your productivity by teaching how to write functional C++ code that is easy to understand, test and reuse.\n",
    "\n",
    "After mastering the basic building blocks of functional programming, you will learn how to think functionally and solve everyday programming problems in an elegant way. Every provided coding exercises comes with an exemplary solution.\n",
    "\n",
    "At the end of this course you will be able to use the functional approach to write application code that is extraordinarily robust and pleasant to work with.\n",
    "\n",
    "And as a bonus, all the concepts you have learned will not only help you when using C++, but are applicable to other programming languages too and will expand your horizon regarding programming in general."
   ]
  },
  {
   "attachments": {},
   "cell_type": "markdown",
   "metadata": {},
   "source": [
    "Notes:\n",
    "1. Hardware has come a long way since the 60s and the time of the top-down and bottom-up philosophies. Nowadays, we can even run interpreted code in production scenarios: In the real world, saving development time is in many cases *more important* than performance.\n",
    "2. Compilers are more optimized than ever."
   ]
  },
  {
   "attachments": {},
   "cell_type": "markdown",
   "metadata": {},
   "source": [
    "Functional programming: principle-> controlling complexity\n",
    "* functions are used as **data** (passed around in other functions)\n",
    "* try to separate data from logic as much as possible (hidden variables, extra logic, overhead)"
   ]
  },
  {
   "cell_type": "markdown",
   "metadata": {},
   "source": []
  }
 ],
 "metadata": {
  "language_info": {
   "name": "python"
  },
  "orig_nbformat": 4
 },
 "nbformat": 4,
 "nbformat_minor": 2
}
