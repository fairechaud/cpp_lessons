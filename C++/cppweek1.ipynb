{
 "cells": [
  {
   "attachments": {},
   "cell_type": "markdown",
   "metadata": {},
   "source": [
    "# Learn C++ programming\n"
   ]
  },
  {
   "attachments": {},
   "cell_type": "markdown",
   "metadata": {},
   "source": [
    "## Key points about the lesson:\n",
    "\n",
    "* Learn Basic concepts of Programming C++, OOPs,Exception Handling, STL, Features of C++ 11\n",
    "* Learn Object-Oriented Programming Design Concept in C++ Perfectly with Examples\n",
    "* Learn How to Develop an Application (Student Project in C++ )"
   ]
  },
  {
   "attachments": {},
   "cell_type": "markdown",
   "metadata": {},
   "source": [
    "# Object-Oriented Programming"
   ]
  },
  {
   "attachments": {},
   "cell_type": "markdown",
   "metadata": {},
   "source": [
    "## Definition\n",
    "\n",
    "An object is a data structure, the code representation (abstraction) of a real world element. In contains both attributes and methods.\n",
    "+ Attributes: the characteristics of that object, its properties\n",
    "+ Methods: the functions, actions that can be applicable to that object\n",
    "\n",
    "An object is a data unit that groups attributes that describe the object (using variables) and methods that represent all the functions/actions that can be performed on that same object\n",
    "\n",
    "Why are objects so powerful? They allow you as a developer to come up with any type of data and perform as many operations on that data as you desire. You are not bound to defining things as *ints, booleans, structs or strings* only, you can create an object with the attributes and methods that you choose."
   ]
  },
  {
   "attachments": {},
   "cell_type": "markdown",
   "metadata": {},
   "source": [
    "# Abstraction"
   ]
  },
  {
   "attachments": {},
   "cell_type": "markdown",
   "metadata": {},
   "source": [
    "## Definition\n",
    "\n",
    "Representing an object characteristics as attributes and methods, stripping down an object to its fundamentals, e.g. a bicycle can have any size of wheels, different layouts of pedals, different number of seats, the structure can be made of different materials, etc.\n",
    "\n",
    "Abstracting a bicycle means defining the fundamental **attributes** of the object:\n",
    "\n",
    "+ Distribution of wheels\n",
    "+ Size of wheels\n",
    "+ Number of pedals\n",
    "+ Construction material\n",
    "+ Number of seats\n",
    "+ Number of gears\n",
    "+ ...\n",
    "\n",
    "<img src= \"../img/bike.jpg\">\n",
    "\n",
    "In addition to this, abstracting also involves identifying the actions specific to that object:\n",
    "\n",
    "+ Change gears\n",
    "+ Accelerate\n",
    "+ Stop\n",
    "+ ..."
   ]
  },
  {
   "attachments": {},
   "cell_type": "markdown",
   "metadata": {},
   "source": [
    "# Inheritance (class)"
   ]
  },
  {
   "attachments": {},
   "cell_type": "markdown",
   "metadata": {},
   "source": [
    "## Definition\n",
    "\n",
    "Class inheritance means inheriting the general class attributes and methods so we can define an object nevermind all the different possible combinations of values and nuances\n",
    "\n",
    "An object (class) has been defined, e.g. an athlete, an athlete has attributes like power and speed but can also be subclassed depending on the actions he performs.\n",
    "\n",
    "A class athlete can be:\n",
    "+ Swimmer\n",
    "+ Cyclist\n",
    "+ Runner\n",
    "+ Football player\n",
    "\n",
    "but even then, if it's a swimmer, cyclist and runner at the same time that athlete is a tri-athlete, if that person only does biking, we would have to specify if it's mountain biking or any other discipline. If it's a footballer it can either be soccer or indoor football, etc."
   ]
  },
  {
   "attachments": {},
   "cell_type": "markdown",
   "metadata": {},
   "source": []
  }
 ],
 "metadata": {
  "language_info": {
   "name": "python"
  },
  "orig_nbformat": 4
 },
 "nbformat": 4,
 "nbformat_minor": 2
}
